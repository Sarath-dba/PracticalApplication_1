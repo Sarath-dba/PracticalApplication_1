{
 "cells": [
  {
   "cell_type": "markdown",
   "metadata": {},
   "source": [
    "**This notebook explores the coupons dataset and provides insides through daya visualization techniques.\n",
    "**More Information about dataset and its features is available in README file in the respository - README.md\n",
    "**Datset can be found in csv format in the repository"
   ]
  },
  {
   "cell_type": "markdown",
   "metadata": {},
   "source": [
    "### Method to answer \"Will the Customer Accept the Coupon?\"\n",
    "\n",
    "- Step 1: Read & Describe the data to inspect and see if any missing information in the datset.\n",
    "- Step 2: Format and cleanse the data by handling missing values and converting Categorical to numerical data etc..\n",
    "- Step 3: Observe the data corrleation using heat map to undertsand the tight correlation between features.\n",
    "- Step 4: Visualize the data using Seaborn and Matplotlib to reveal information\n",
    "- Step 5: Answer the question based on the visualizations and correlation drawn from above."
   ]
  },
  {
   "cell_type": "code",
   "execution_count": null,
   "metadata": {},
   "outputs": [],
   "source": [
    "import matplotlib.pyplot as plt\n",
    "import seaborn as sns\n",
    "import pandas as pd\n",
    "import numpy as np"
   ]
  },
  {
   "cell_type": "code",
   "execution_count": null,
   "metadata": {
    "id": "X0vbffYg_qRH"
   },
   "outputs": [],
   "source": [
    "coupon = pd.read_csv('data/coupons.csv')"
   ]
  },
  {
   "cell_type": "markdown",
   "metadata": {},
   "source": [
    "### Step 1: Know your dataset"
   ]
  },
  {
   "cell_type": "code",
   "execution_count": null,
   "metadata": {
    "id": "TXofQ_DF_qRH",
    "outputId": "2fc96a2c-1112-4b54-f24f-dbb9bc88abfb",
    "scrolled": false
   },
   "outputs": [],
   "source": [
    "coupon.head()"
   ]
  },
  {
   "cell_type": "code",
   "execution_count": null,
   "metadata": {
    "id": "6CwL6oWj_qRH",
    "scrolled": true
   },
   "outputs": [],
   "source": [
    "coupon.info()"
   ]
  },
  {
   "cell_type": "code",
   "execution_count": null,
   "metadata": {
    "scrolled": true
   },
   "outputs": [],
   "source": [
    "coupon.isnull().sum()"
   ]
  },
  {
   "cell_type": "code",
   "execution_count": null,
   "metadata": {},
   "outputs": [],
   "source": [
    "coupon.nunique()"
   ]
  },
  {
   "cell_type": "markdown",
   "metadata": {},
   "source": [
    "From the above outputs, Most of the columns ate categorical & Boolean. Though the data is numeric, but they have very few unique values, which in my opinion can be treated as categorical"
   ]
  },
  {
   "cell_type": "markdown",
   "metadata": {
    "id": "tyvoAC5F_qRI"
   },
   "source": [
    "### Step 2: Clean the data\n",
    "\n",
    "- The column 'car' does not carry any value in this context and it has many missing values too. So, we can drop this column from dataset.\n",
    "- There are very few rows which have Null values and they seem to be all categorical columns. So, we can drop those rows as well"
   ]
  },
  {
   "cell_type": "code",
   "execution_count": null,
   "metadata": {
    "id": "86GGqBTv_qRI"
   },
   "outputs": [],
   "source": [
    "coupon.drop('car', axis=1, inplace=True)\n",
    "coupon.dropna(inplace=True)\n",
    "coupon.head()"
   ]
  },
  {
   "cell_type": "markdown",
   "metadata": {
    "id": "vflz0DoE_qRI"
   },
   "source": [
    "### Step 3: Understand your data\n",
    "- As most of the features are categorical, we can Crosstab features against target feature 'Y' (Yes/No)"
   ]
  },
  {
   "cell_type": "code",
   "execution_count": null,
   "metadata": {
    "id": "dHFh3E45_qRI",
    "scrolled": false
   },
   "outputs": [],
   "source": [
    "for col in coupon.drop('Y', axis=1).columns.tolist():\n",
    "    crosstab = pd.crosstab(coupon[col], coupon['Y'])\n",
    "    print(f'Crosstab for {col} and Y')\n",
    "    print(crosstab)    "
   ]
  },
  {
   "cell_type": "markdown",
   "metadata": {},
   "source": [
    "The above data tells the categories with more coupons sent to drivers and categories where acceptance is high\n",
    "- Destination 'No Urgent Place' found inetersting\n",
    "- Age groups 31 and below is noticeable\n",
    "- Sunny weather has most coupons shared with drivers\n",
    "- Drivers who are Alone and Friend(s) seems to have received more coupons"
   ]
  },
  {
   "cell_type": "markdown",
   "metadata": {
    "id": "Qw4lCyx2_qRI"
   },
   "source": [
    "### Step 4: Visualize the data to give more meaning\n",
    "- Percentage of coupons across different categories using pie charts\n",
    "- As most of the columns are categorical, Barplots or countplots seems more appropriate."
   ]
  },
  {
   "cell_type": "code",
   "execution_count": null,
   "metadata": {
    "id": "Yg9Anv71_qRI"
   },
   "outputs": [],
   "source": [
    "plt.figure(figsize=(20,20))\n",
    "plt.subplot(3,2,1)\n",
    "plt.title('Weather')\n",
    "coupon['weather'].value_counts().plot(kind='pie',autopct='%1.1f%%')\n",
    "plt.subplot(3,2,2)\n",
    "plt.title('Coupon Types sent o Drivers')\n",
    "coupon['coupon'].value_counts().plot(kind='pie',autopct='%1.1f%%')\n",
    "plt.subplot(3,2,3)\n",
    "plt.title('Destination of driver')\n",
    "coupon['destination'].value_counts().plot(kind='pie',autopct='%1.1f%%')\n",
    "plt.subplot(3,2,4)\n",
    "plt.title('Age of drivers')\n",
    "coupon['age'].value_counts().plot(kind='pie',autopct='%1.1f%%')\n",
    "plt.subplot(3,2,5)\n",
    "plt.title('Passenger Types')\n",
    "coupon['passanger'].value_counts().plot(kind='pie',autopct='%1.1f%%')\n",
    "plt.subplot(3,2,6)\n",
    "plt.title('Coupon Expiry')\n",
    "coupon['expiration'].value_counts().plot(kind='pie',autopct='%1.1f%%')"
   ]
  },
  {
   "cell_type": "code",
   "execution_count": null,
   "metadata": {
    "id": "zLtOaJQk_qRI"
   },
   "outputs": [],
   "source": [
    "#Count plot to visualize the coupon acceptance rate across different categories\n",
    "\n",
    "plt.figure(figsize=(30,20))\n",
    "plt.subplot(4,2,1)\n",
    "sns.countplot(data=coupon, x=coupon['coupon'],hue=coupon['Y'])\n",
    "plt.subplot(4,2,2)\n",
    "sns.countplot(data=coupon, x=coupon['age'],hue=coupon['Y'])\n",
    "plt.subplot(4,2,3)\n",
    "sns.countplot(data=coupon, x=coupon['weather'],hue=coupon['Y'])\n",
    "plt.subplot(4,2,4)\n",
    "sns.countplot(data=coupon, x=coupon['passanger'],hue=coupon['Y'])\n",
    "plt.subplot(4,2,5)\n",
    "sns.countplot(data=coupon, x=coupon['maritalStatus'],hue=coupon['Y'])\n",
    "plt.subplot(4,2,6)\n",
    "sns.countplot(data=coupon, x=coupon['education'],hue=coupon['Y'])\n",
    "plt.subplot(4,2,7)\n",
    "sns.countplot(data=coupon, x=coupon['income'],hue=coupon['Y'])\n",
    "plt.subplot(4,2,8)\n",
    "sns.countplot(data=coupon, x=coupon['destination'],hue=coupon['Y'])\n",
    "\n",
    "#bar plots to visualize the coupon acceptance rate across multiple categories to get more ideas\n",
    "\n",
    "pd.crosstab([coupon['age'],coupon['coupon']],coupon['Y']).plot(kind='bar',figsize=(30,5))\n",
    "pd.crosstab([coupon['weather'],coupon['age']],coupon['Y']).plot(kind='bar',figsize=(30,5))\n",
    "pd.crosstab([coupon['time'],coupon['coupon'],coupon['passanger']],coupon['Y']).plot(kind='bar',figsize=(30,5))\n",
    "pd.crosstab([coupon['destination'],coupon['age'],coupon['passanger']],coupon['Y']).plot(kind='bar',figsize=(30,5))\n",
    "pd.crosstab([coupon['destination'],coupon['coupon'],coupon['passanger']],coupon['Y']).plot(kind='bar',figsize=(30,5))\n"
   ]
  },
  {
   "cell_type": "markdown",
   "metadata": {
    "id": "7GBHZKBp_qRJ"
   },
   "source": [
    "*Based on the pie charts above:\n",
    "1. Coupons delivered to drivers on Sunny Weather days - 79.5%\n",
    "2. Coupons delivered to drivers are travelling alone or with friends - 83.8%\n",
    "\n",
    "*Let's dive in deeper based on above conditions"
   ]
  },
  {
   "cell_type": "code",
   "execution_count": null,
   "metadata": {
    "id": "Y5nBUA-j_qRJ"
   },
   "outputs": [],
   "source": [
    "# Filter data of drivers who acepted coupons and travelling \"Alone\" or with Friends on Sunny weather day\n",
    "coupon_df = coupon.query('Y == 1 and weather == \"Sunny\" and (passanger == \"Alone\" or passanger == \"Friend(s)\")')\n",
    "\n",
    "#Group the filtered data based on accepted coupon types\n",
    "cgrp_coupon = coupon_df.groupby(['coupon']).size().reset_index(name='counts').set_index('coupon')\n",
    "\n",
    "#Add age feature to the data grouping to gain more insight on who accepted coupons\n",
    "cgrp_coupon_age = coupon_df.groupby(['coupon','age']).size().reset_index(name='counts').set_index('coupon')\n",
    "\n",
    "#Visualize the above data groups and write a story\n",
    "plt.figure(figsize=(10,10))\n",
    "plt.subplot(2,1,1)\n",
    "sns.barplot(x=cgrp_coupon.index, y=cgrp_coupon['counts'])\n",
    "plt.subplot(2,1,2)\n",
    "sns.barplot(x=cgrp_coupon_age.index, y=cgrp_coupon_age['counts'],hue=cgrp_coupon_age['age'])"
   ]
  },
  {
   "cell_type": "markdown",
   "metadata": {},
   "source": [
    "- Seems specific age group of 21 have accepted more coffe house coupons, while travelling alone or with friends on Sunny day.\n",
    "- Let's explore this age group's habits over a week, on how many times they go to CoffeHouse or restaurant etc.."
   ]
  },
  {
   "cell_type": "code",
   "execution_count": null,
   "metadata": {
    "scrolled": true
   },
   "outputs": [],
   "source": [
    "# Pick the frequency columns and plot the data for various age groups\n",
    "\n",
    "habit_columns = ['Bar','CoffeeHouse','CarryAway','RestaurantLessThan20','Restaurant20To50']\n",
    "plt.figure(figsize=(20,25))\n",
    "j=0\n",
    "for col in habit_columns:\n",
    "    j+=1\n",
    "    coupon_age_grp_df = coupon_df.groupby(['age',col]).size().reset_index(name='counts').set_index('age')\n",
    "    plt.subplot(5,1,j)\n",
    "    sns.barplot(x=coupon_age_grp_df.index, y=coupon_age_grp_df['counts'],hue=coupon_age_grp_df[col])"
   ]
  },
  {
   "cell_type": "markdown",
   "metadata": {
    "id": "ShcUC-Vm_qRJ"
   },
   "source": [
    "### Step 5: Conclusion"
   ]
  },
  {
   "cell_type": "markdown",
   "metadata": {
    "id": "FupfgeJk_qRJ"
   },
   "source": [
    "*Found some intersting information from the analysis to answer the question \"Will the Customer Accept the Coupon?\"\n",
    "\n",
    "1. Drivers who are alone OR driving with friends have accepted most coupons.\n",
    "2. Majority of the coupons are sent to drivers on Sunny day.\n",
    "3. Carry out, Coffe House & Cheaper restaurant coupons stood out with more acceptance.\n",
    "4. Age groups (21,26,31) have accpeted most Carry out, Coffe House & Cheaper restaurant coupons\n",
    "5. Also, Age groups (21,26,31) showed habits of visiting Carry out, Coffe House & Cheaper restaurant 1~3 times per week\n",
    "\n",
    "********From my Analysis, Younger age groups travelling alone or with friends have higher Carry out, Coffe House & Cheaper restaurant coupon acceptance rate\n",
    "\n",
    "Note: There can be other dimensions that can be added to the analysis, like..\n",
    "a. time at which most coupons are accepted.\n",
    "b. Travel time to reach buisness location.\n",
    "c. Income\n",
    "d. Destination etc..\n",
    "\n",
    "Adding these would lead to different conclusions and may provide other insights too..\n",
    "\n",
    "Happy Exploration & Analysis!!!\n"
   ]
  }
 ],
 "metadata": {
  "colab": {
   "provenance": []
  },
  "kernelspec": {
   "display_name": "Python 3 (ipykernel)",
   "language": "python",
   "name": "python3"
  },
  "language_info": {
   "codemirror_mode": {
    "name": "ipython",
    "version": 3
   },
   "file_extension": ".py",
   "mimetype": "text/x-python",
   "name": "python",
   "nbconvert_exporter": "python",
   "pygments_lexer": "ipython3",
   "version": "3.11.4"
  }
 },
 "nbformat": 4,
 "nbformat_minor": 1
}
